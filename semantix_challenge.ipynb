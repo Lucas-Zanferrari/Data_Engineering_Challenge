{
 "cells": [
  {
   "cell_type": "markdown",
   "metadata": {},
   "source": [
    "<h1 align=\"center\"> Desafio de Engenharia de Dados</h1>\n",
    "<br />\n",
    "\n",
    "<img src=\"img/spark-logo.png\" width=\"250\" height=\"120\" align=\"left\" />\n",
    "<img src=\"img/semantix-horizontal.png\" width=\"500\" height=\"100\" align=\"right\" />"
   ]
  },
  {
   "cell_type": "markdown",
   "metadata": {},
   "source": [
    " ## Descrição\n",
    " \n",
    "Fonte oficial do dateset: http://ita.ee.lbl.gov/html/contrib/NASA-HTTP.html\n",
    "\n",
    "Dados:\n",
    "- Jul 01 to Jul 31, ASCII format, 20.7 MB gzip compressed, 205.2 MB.\n",
    "- Aug 04 to Aug 31, ASCII format, 21.8 MB gzip compressed, 167.8 MB.\n",
    "\n",
    "Sobre o dataset: Esses dois conjuntos de dados possuem todas as requisições HTTP para o servidor da NASA Kennedy Space Center WWW na Flórida para um período específico.\n",
    "\n",
    "Os logs estão em arquivos ASCII com uma linha por requisição com as seguintes colunas:\n",
    "- Host fazendo a requisição. Um hostname quando possível, caso contrário o endereço de internet se o nome não puder ser identificado.\n",
    "- Timestamp no formato \"DIA/MÊS/ANO:HH:MM:SS TIMEZONE\"\n",
    "- Requisição (entre aspas)\n",
    "- Código do retorno HTTP\n",
    "- Total de bytes retornados\n",
    "\n",
    "<br /><br />\n",
    "<hr />"
   ]
  },
  {
   "cell_type": "markdown",
   "metadata": {},
   "source": [
    "Primeiro, as bibliotecas necessárias são importadas"
   ]
  },
  {
   "cell_type": "code",
   "execution_count": 1,
   "metadata": {},
   "outputs": [],
   "source": [
    "import re\n",
    "from datetime import datetime"
   ]
  },
  {
   "cell_type": "markdown",
   "metadata": {},
   "source": [
    "Após, o download dos arquivos que contém os datasets são efetuados e ambos são descompactados"
   ]
  },
  {
   "cell_type": "code",
   "execution_count": 2,
   "metadata": {},
   "outputs": [
    {
     "name": "stdout",
     "output_type": "stream",
     "text": [
      "Data Downloaded!\n"
     ]
    }
   ],
   "source": [
    "!wget --quiet ftp://ita.ee.lbl.gov/traces/NASA_access_log_Jul95.gz\n",
    "!wget --quiet ftp://ita.ee.lbl.gov/traces/NASA_access_log_Aug95.gz\n",
    "print(\"Data Downloaded!\")"
   ]
  },
  {
   "cell_type": "code",
   "execution_count": 3,
   "metadata": {},
   "outputs": [
    {
     "name": "stdout",
     "output_type": "stream",
     "text": [
      "Data Extracted!\n"
     ]
    }
   ],
   "source": [
    "!gunzip NASA_access_log_Jul95.gz\n",
    "!gunzip NASA_access_log_Aug95.gz\n",
    "print(\"Data Extracted!\")"
   ]
  },
  {
   "cell_type": "markdown",
   "metadata": {},
   "source": [
    "Depois, os datasets são carregados em RDDs, e estes são unidos para formar um único RDD"
   ]
  },
  {
   "cell_type": "code",
   "execution_count": 4,
   "metadata": {},
   "outputs": [],
   "source": [
    "jul_rdd = sc.textFile('NASA_access_log_Jul95')\n",
    "aug_rdd = sc.textFile('NASA_access_log_Aug95')\n",
    "\n",
    "full_dataset_rdd = jul_rdd + aug_rdd"
   ]
  },
  {
   "cell_type": "markdown",
   "metadata": {},
   "source": [
    "Após isso, os dados no RDD resultante são estruturados em tuplas de 4 posições em que a primeira contém o host emissor da requisição, a segunda contém a data da requisição, a terceira ontém o código de retorno da resposta e a quarta contém o número de bytes enviados ao cliente"
   ]
  },
  {
   "cell_type": "code",
   "execution_count": 5,
   "metadata": {},
   "outputs": [
    {
     "data": {
      "text/plain": [
       "[('199.72.81.55', '01/Jul/1995', 200, 6245),\n",
       " ('unicomp6.unicomp.net', '01/Jul/1995', 200, 3985),\n",
       " ('199.120.110.21', '01/Jul/1995', 200, 4085),\n",
       " ('burger.letters.com', '01/Jul/1995', 304, 0),\n",
       " ('199.120.110.21', '01/Jul/1995', 200, 4179),\n",
       " ('burger.letters.com', '01/Jul/1995', 304, 0),\n",
       " ('burger.letters.com', '01/Jul/1995', 200, 0),\n",
       " ('205.212.115.106', '01/Jul/1995', 200, 3985),\n",
       " ('d104.aa.net', '01/Jul/1995', 200, 3985),\n",
       " ('129.94.144.152', '01/Jul/1995', 200, 7074)]"
      ]
     },
     "execution_count": 5,
     "metadata": {},
     "output_type": "execute_result"
    }
   ],
   "source": [
    "# setting the structure to make it easier to query for data later on\n",
    "def set_data_structure(line):\n",
    "    host = re.search(r'(.*) - - ', line)\n",
    "    host = host.group(1) if host else ''\n",
    "    \n",
    "    date = re.search(r'\\[([0-9A-Za-z\\/]*):.*\\]', line)\n",
    "    date = date.group(1) if date else ''\n",
    "    \n",
    "    status_code = re.search(r'\\\" ([0-9]+) ', line)\n",
    "    status_code = int(status_code.group(1)) if status_code else 0\n",
    "    \n",
    "    bytes_transfered = re.search(r' ([0-9]+)$', line)\n",
    "    bytes_transfered = int(bytes_transfered.group(1)) if bytes_transfered else 0\n",
    "    \n",
    "    return (host, date, status_code, bytes_transfered)\n",
    "\n",
    "\n",
    "structured_rdd = full_dataset_rdd.map(lambda line: set_data_structure(line))\n",
    "structured_rdd.cache()\n",
    "structured_rdd.take(10)"
   ]
  },
  {
   "cell_type": "markdown",
   "metadata": {},
   "source": [
    "## Questões\n",
    "\n",
    "1) Número de hosts únicos."
   ]
  },
  {
   "cell_type": "code",
   "execution_count": 6,
   "metadata": {},
   "outputs": [
    {
     "data": {
      "text/plain": [
       "137979"
      ]
     },
     "execution_count": 6,
     "metadata": {},
     "output_type": "execute_result"
    }
   ],
   "source": [
    "unique_hosts = structured_rdd.map(lambda req: req[0]).distinct()\n",
    "unique_hosts.count()"
   ]
  },
  {
   "cell_type": "markdown",
   "metadata": {},
   "source": [
    "2) O total de erros 404."
   ]
  },
  {
   "cell_type": "code",
   "execution_count": 7,
   "metadata": {},
   "outputs": [
    {
     "data": {
      "text/plain": [
       "20901"
      ]
     },
     "execution_count": 7,
     "metadata": {},
     "output_type": "execute_result"
    }
   ],
   "source": [
    "errors_404 = structured_rdd.filter(lambda req: req[2] == 404)\n",
    "errors_404.cache()\n",
    "errors_404.count()"
   ]
  },
  {
   "cell_type": "markdown",
   "metadata": {},
   "source": [
    "3) Os 5 URLs que mais causaram erro 404."
   ]
  },
  {
   "cell_type": "code",
   "execution_count": 8,
   "metadata": {},
   "outputs": [
    {
     "data": {
      "text/plain": [
       "[('hoohoo.ncsa.uiuc.edu', 251),\n",
       " ('piweba3y.prodigy.com', 157),\n",
       " ('jbiagioni.npt.nuwc.navy.mil', 132),\n",
       " ('piweba1y.prodigy.com', 114),\n",
       " ('www-d4.proxy.aol.com', 91)]"
      ]
     },
     "execution_count": 8,
     "metadata": {},
     "output_type": "execute_result"
    }
   ],
   "source": [
    "hosts_with_most_404 = errors_404.map(lambda req: (req[0], 1)).reduceByKey(lambda x, y: x + y)\n",
    "hosts_with_most_404.takeOrdered(5, lambda req: -req[1])"
   ]
  },
  {
   "cell_type": "markdown",
   "metadata": {},
   "source": [
    "4) Quantidade de erros 404 por dia."
   ]
  },
  {
   "cell_type": "code",
   "execution_count": 9,
   "metadata": {},
   "outputs": [
    {
     "data": {
      "text/plain": [
       "[('01/Jul/1995', 316),\n",
       " ('02/Jul/1995', 291),\n",
       " ('03/Jul/1995', 474),\n",
       " ('04/Jul/1995', 359),\n",
       " ('05/Jul/1995', 497),\n",
       " ('06/Jul/1995', 640),\n",
       " ('07/Jul/1995', 570),\n",
       " ('08/Jul/1995', 302),\n",
       " ('09/Jul/1995', 348),\n",
       " ('10/Jul/1995', 398),\n",
       " ('11/Jul/1995', 471),\n",
       " ('12/Jul/1995', 471),\n",
       " ('13/Jul/1995', 532),\n",
       " ('14/Jul/1995', 413),\n",
       " ('15/Jul/1995', 254),\n",
       " ('16/Jul/1995', 257),\n",
       " ('17/Jul/1995', 406),\n",
       " ('18/Jul/1995', 465),\n",
       " ('19/Jul/1995', 639),\n",
       " ('20/Jul/1995', 428),\n",
       " ('21/Jul/1995', 334),\n",
       " ('22/Jul/1995', 192),\n",
       " ('23/Jul/1995', 233),\n",
       " ('24/Jul/1995', 328),\n",
       " ('25/Jul/1995', 461),\n",
       " ('26/Jul/1995', 336),\n",
       " ('27/Jul/1995', 336),\n",
       " ('28/Jul/1995', 94),\n",
       " ('01/Aug/1995', 243),\n",
       " ('03/Aug/1995', 304),\n",
       " ('04/Aug/1995', 346),\n",
       " ('05/Aug/1995', 236),\n",
       " ('06/Aug/1995', 373),\n",
       " ('07/Aug/1995', 537),\n",
       " ('08/Aug/1995', 391),\n",
       " ('09/Aug/1995', 279),\n",
       " ('10/Aug/1995', 315),\n",
       " ('11/Aug/1995', 263),\n",
       " ('12/Aug/1995', 196),\n",
       " ('13/Aug/1995', 216),\n",
       " ('14/Aug/1995', 287),\n",
       " ('15/Aug/1995', 327),\n",
       " ('16/Aug/1995', 259),\n",
       " ('17/Aug/1995', 271),\n",
       " ('18/Aug/1995', 256),\n",
       " ('19/Aug/1995', 209),\n",
       " ('20/Aug/1995', 312),\n",
       " ('21/Aug/1995', 305),\n",
       " ('22/Aug/1995', 288),\n",
       " ('23/Aug/1995', 345),\n",
       " ('24/Aug/1995', 420),\n",
       " ('25/Aug/1995', 415),\n",
       " ('26/Aug/1995', 366),\n",
       " ('27/Aug/1995', 370),\n",
       " ('28/Aug/1995', 410),\n",
       " ('29/Aug/1995', 420),\n",
       " ('30/Aug/1995', 571),\n",
       " ('31/Aug/1995', 526)]"
      ]
     },
     "execution_count": 9,
     "metadata": {},
     "output_type": "execute_result"
    }
   ],
   "source": [
    "errors_404_per_day = errors_404.map(lambda req: (req[1], 1)).reduceByKey(lambda x, y: x + y)\n",
    "sorted_errors_404_per_day = errors_404_per_day.sortBy(lambda req: datetime.strptime(req[0], '%d/%b/%Y'))\n",
    "sorted_errors_404_per_day.collect()"
   ]
  },
  {
   "cell_type": "markdown",
   "metadata": {},
   "source": [
    "5) O total de bytes retornados."
   ]
  },
  {
   "cell_type": "code",
   "execution_count": 10,
   "metadata": {},
   "outputs": [
    {
     "data": {
      "text/plain": [
       "65524314915"
      ]
     },
     "execution_count": 10,
     "metadata": {},
     "output_type": "execute_result"
    }
   ],
   "source": [
    "structured_rdd.map(lambda req: req[3]).reduce(lambda x, y: x + y)"
   ]
  }
 ],
 "metadata": {
  "kernelspec": {
   "display_name": "Python 3",
   "language": "python",
   "name": "python3"
  },
  "language_info": {
   "codemirror_mode": {
    "name": "ipython",
    "version": 3
   },
   "file_extension": ".py",
   "mimetype": "text/x-python",
   "name": "python",
   "nbconvert_exporter": "python",
   "pygments_lexer": "ipython3",
   "version": "3.6.4"
  },
  "widgets": {
   "state": {},
   "version": "1.1.2"
  }
 },
 "nbformat": 4,
 "nbformat_minor": 1
}
